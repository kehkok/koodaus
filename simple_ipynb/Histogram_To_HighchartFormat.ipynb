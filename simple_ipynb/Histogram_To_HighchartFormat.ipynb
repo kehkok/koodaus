{
 "cells": [
  {
   "cell_type": "markdown",
   "metadata": {},
   "source": [
    "# Extracting Histogram XY Series\n",
    "\n",
    "This notebook illustrates steps to extract series of data to list format.   Experiment dataset is using \"Student Performance in exam\", which can found at [Kaggle](https://www.kaggle.com/spscientist/students-performance-in-exams)."
   ]
  },
  {
   "cell_type": "code",
   "execution_count": 179,
   "metadata": {},
   "outputs": [],
   "source": [
    "import pandas as pd\n",
    "import numpy as np\n",
    "from scipy.stats import norm\n",
    "import matplotlib.pyplot as plt"
   ]
  },
  {
   "cell_type": "code",
   "execution_count": 150,
   "metadata": {},
   "outputs": [
    {
     "data": {
      "text/plain": [
       "(1000, 8)"
      ]
     },
     "execution_count": 150,
     "metadata": {},
     "output_type": "execute_result"
    }
   ],
   "source": [
    "df_raw = pd.read_csv(\"./dataset/StudentsPerformance.csv\")\n",
    "df_raw.shape"
   ]
  },
  {
   "cell_type": "code",
   "execution_count": 151,
   "metadata": {},
   "outputs": [
    {
     "data": {
      "text/html": [
       "<div>\n",
       "<style scoped>\n",
       "    .dataframe tbody tr th:only-of-type {\n",
       "        vertical-align: middle;\n",
       "    }\n",
       "\n",
       "    .dataframe tbody tr th {\n",
       "        vertical-align: top;\n",
       "    }\n",
       "\n",
       "    .dataframe thead th {\n",
       "        text-align: right;\n",
       "    }\n",
       "</style>\n",
       "<table border=\"1\" class=\"dataframe\">\n",
       "  <thead>\n",
       "    <tr style=\"text-align: right;\">\n",
       "      <th></th>\n",
       "      <th>math score</th>\n",
       "      <th>reading score</th>\n",
       "      <th>writing score</th>\n",
       "    </tr>\n",
       "  </thead>\n",
       "  <tbody>\n",
       "    <tr>\n",
       "      <th>count</th>\n",
       "      <td>1000.00000</td>\n",
       "      <td>1000.000000</td>\n",
       "      <td>1000.000000</td>\n",
       "    </tr>\n",
       "    <tr>\n",
       "      <th>mean</th>\n",
       "      <td>66.08900</td>\n",
       "      <td>69.169000</td>\n",
       "      <td>68.054000</td>\n",
       "    </tr>\n",
       "    <tr>\n",
       "      <th>std</th>\n",
       "      <td>15.16308</td>\n",
       "      <td>14.600192</td>\n",
       "      <td>15.195657</td>\n",
       "    </tr>\n",
       "    <tr>\n",
       "      <th>min</th>\n",
       "      <td>0.00000</td>\n",
       "      <td>17.000000</td>\n",
       "      <td>10.000000</td>\n",
       "    </tr>\n",
       "    <tr>\n",
       "      <th>25%</th>\n",
       "      <td>57.00000</td>\n",
       "      <td>59.000000</td>\n",
       "      <td>57.750000</td>\n",
       "    </tr>\n",
       "    <tr>\n",
       "      <th>50%</th>\n",
       "      <td>66.00000</td>\n",
       "      <td>70.000000</td>\n",
       "      <td>69.000000</td>\n",
       "    </tr>\n",
       "    <tr>\n",
       "      <th>75%</th>\n",
       "      <td>77.00000</td>\n",
       "      <td>79.000000</td>\n",
       "      <td>79.000000</td>\n",
       "    </tr>\n",
       "    <tr>\n",
       "      <th>max</th>\n",
       "      <td>100.00000</td>\n",
       "      <td>100.000000</td>\n",
       "      <td>100.000000</td>\n",
       "    </tr>\n",
       "  </tbody>\n",
       "</table>\n",
       "</div>"
      ],
      "text/plain": [
       "       math score  reading score  writing score\n",
       "count  1000.00000    1000.000000    1000.000000\n",
       "mean     66.08900      69.169000      68.054000\n",
       "std      15.16308      14.600192      15.195657\n",
       "min       0.00000      17.000000      10.000000\n",
       "25%      57.00000      59.000000      57.750000\n",
       "50%      66.00000      70.000000      69.000000\n",
       "75%      77.00000      79.000000      79.000000\n",
       "max     100.00000     100.000000     100.000000"
      ]
     },
     "execution_count": 151,
     "metadata": {},
     "output_type": "execute_result"
    }
   ],
   "source": [
    "df_raw.describe()"
   ]
  },
  {
   "cell_type": "code",
   "execution_count": 152,
   "metadata": {},
   "outputs": [
    {
     "data": {
      "text/plain": [
       "gender                         object\n",
       "race/ethnicity                 object\n",
       "parental level of education    object\n",
       "lunch                          object\n",
       "test preparation course        object\n",
       "math score                      int64\n",
       "reading score                   int64\n",
       "writing score                   int64\n",
       "dtype: object"
      ]
     },
     "execution_count": 152,
     "metadata": {},
     "output_type": "execute_result"
    }
   ],
   "source": [
    "df_raw.dtypes"
   ]
  },
  {
   "cell_type": "markdown",
   "metadata": {},
   "source": [
    "## 1. Global Variable Setup"
   ]
  },
  {
   "cell_type": "code",
   "execution_count": 154,
   "metadata": {},
   "outputs": [],
   "source": [
    "BIN_SIZE = 10\n",
    "\n",
    "SR_MATHSCORE = df_raw['math score']\n",
    "MEAN = df_raw['math score'].describe()['mean']\n",
    "STD = df_raw['math score'].describe()['std']"
   ]
  },
  {
   "cell_type": "markdown",
   "metadata": {},
   "source": [
    "## 2. Basic Dataframe Histogram for 'math score' Column "
   ]
  },
  {
   "cell_type": "code",
   "execution_count": 155,
   "metadata": {},
   "outputs": [
    {
     "data": {
      "image/png": "[encoded data removed]",
      "text/plain": [
       "<Figure size 432x288 with 1 Axes>"
      ]
     },
     "metadata": {
      "needs_background": "light"
     },
     "output_type": "display_data"
    }
   ],
   "source": [
    "hist = df_raw['math score'].hist(bins=BIN_SIZE)"
   ]
  },
  {
   "cell_type": "markdown",
   "metadata": {},
   "source": [
    "## 3. Histogram with Bell Curve"
   ]
  },
  {
   "cell_type": "code",
   "execution_count": 156,
   "metadata": {},
   "outputs": [],
   "source": [
    "sr = df_raw['math score']"
   ]
  },
  {
   "cell_type": "code",
   "execution_count": 157,
   "metadata": {},
   "outputs": [
    {
     "name": "stdout",
     "output_type": "stream",
     "text": [
      "mu = 66.089, std = 15.163080096009468\n"
     ]
    }
   ],
   "source": [
    "# Fit a normal distribution to the data:\n",
    "mu = sr.describe()['mean']\n",
    "std = sr.describe()['std']\n",
    "\n",
    "print(\"mu = {}, std = {}\".format(mu, std))"
   ]
  },
  {
   "cell_type": "code",
   "execution_count": 158,
   "metadata": {},
   "outputs": [
    {
     "data": {
      "image/png": "[encoded data removed]",
      "text/plain": [
       "<Figure size 432x288 with 1 Axes>"
      ]
     },
     "metadata": {
      "needs_background": "light"
     },
     "output_type": "display_data"
    }
   ],
   "source": [
    "# Plot the histogram.\n",
    "plt.hist(sr.values, bins=BIN_SIZE, histtype='stepfilled', density=True, alpha=0.6, color='g')\n",
    "\n",
    "# Plot the PDF.\n",
    "xmin, xmax = plt.xlim()\n",
    "x = np.linspace(0, 100, 1000)\n",
    "p = norm.pdf(x, mu, std) \n",
    "plt.plot(x, p, 'r', linewidth=2) \n",
    "title = \"Fit results: mu = %.2f,  std = %.2f\" % (mu, std)\n",
    "plt.title(title)\n",
    "\n",
    "plt.axvline(x=mu, color='orange', linestyle='dashed', lw=2, alpha=0.7)\n",
    "plt.axvline(x=mu-std, color='blue', linestyle='dashed', lw=2, alpha=0.7)\n",
    "plt.axvline(x=mu+std, color='blue', linestyle='dashed', lw=2, alpha=0.7)\n",
    "\n",
    "plt.show()"
   ]
  },
  {
   "cell_type": "markdown",
   "metadata": {},
   "source": [
    "### 3.1  Experimenting the bell curve probability values"
   ]
  },
  {
   "cell_type": "code",
   "execution_count": 159,
   "metadata": {},
   "outputs": [
    {
     "data": {
      "text/plain": [
       "array([  0.        ,   0.1001001 ,   0.2002002 ,   0.3003003 ,\n",
       "         0.4004004 ,   0.5005005 ,   0.6006006 ,   0.7007007 ,\n",
       "         0.8008008 ,   0.9009009 ,   1.001001  ,   1.1011011 ,\n",
       "         1.2012012 ,   1.3013013 ,   1.4014014 ,   1.5015015 ,\n",
       "         1.6016016 ,   1.7017017 ,   1.8018018 ,   1.9019019 ,\n",
       "         2.002002  ,   2.1021021 ,   2.2022022 ,   2.3023023 ,\n",
       "         2.4024024 ,   2.5025025 ,   2.6026026 ,   2.7027027 ,\n",
       "         2.8028028 ,   2.9029029 ,   3.003003  ,   3.1031031 ,\n",
       "         3.2032032 ,   3.3033033 ,   3.4034034 ,   3.5035035 ,\n",
       "         3.6036036 ,   3.7037037 ,   3.8038038 ,   3.9039039 ,\n",
       "         4.004004  ,   4.1041041 ,   4.2042042 ,   4.3043043 ,\n",
       "         4.4044044 ,   4.5045045 ,   4.6046046 ,   4.7047047 ,\n",
       "         4.8048048 ,   4.9049049 ,   5.00500501,   5.10510511,\n",
       "         5.20520521,   5.30530531,   5.40540541,   5.50550551,\n",
       "         5.60560561,   5.70570571,   5.80580581,   5.90590591,\n",
       "         6.00600601,   6.10610611,   6.20620621,   6.30630631,\n",
       "         6.40640641,   6.50650651,   6.60660661,   6.70670671,\n",
       "         6.80680681,   6.90690691,   7.00700701,   7.10710711,\n",
       "         7.20720721,   7.30730731,   7.40740741,   7.50750751,\n",
       "         7.60760761,   7.70770771,   7.80780781,   7.90790791,\n",
       "         8.00800801,   8.10810811,   8.20820821,   8.30830831,\n",
       "         8.40840841,   8.50850851,   8.60860861,   8.70870871,\n",
       "         8.80880881,   8.90890891,   9.00900901,   9.10910911,\n",
       "         9.20920921,   9.30930931,   9.40940941,   9.50950951,\n",
       "         9.60960961,   9.70970971,   9.80980981,   9.90990991,\n",
       "        10.01001001,  10.11011011,  10.21021021,  10.31031031,\n",
       "        10.41041041,  10.51051051,  10.61061061,  10.71071071,\n",
       "        10.81081081,  10.91091091,  11.01101101,  11.11111111,\n",
       "        11.21121121,  11.31131131,  11.41141141,  11.51151151,\n",
       "        11.61161161,  11.71171171,  11.81181181,  11.91191191,\n",
       "        12.01201201,  12.11211211,  12.21221221,  12.31231231,\n",
       "        12.41241241,  12.51251251,  12.61261261,  12.71271271,\n",
       "        12.81281281,  12.91291291,  13.01301301,  13.11311311,\n",
       "        13.21321321,  13.31331331,  13.41341341,  13.51351351,\n",
       "        13.61361361,  13.71371371,  13.81381381,  13.91391391,\n",
       "        14.01401401,  14.11411411,  14.21421421,  14.31431431,\n",
       "        14.41441441,  14.51451451,  14.61461461,  14.71471471,\n",
       "        14.81481481,  14.91491491,  15.01501502,  15.11511512,\n",
       "        15.21521522,  15.31531532,  15.41541542,  15.51551552,\n",
       "        15.61561562,  15.71571572,  15.81581582,  15.91591592,\n",
       "        16.01601602,  16.11611612,  16.21621622,  16.31631632,\n",
       "        16.41641642,  16.51651652,  16.61661662,  16.71671672,\n",
       "        16.81681682,  16.91691692,  17.01701702,  17.11711712,\n",
       "        17.21721722,  17.31731732,  17.41741742,  17.51751752,\n",
       "        17.61761762,  17.71771772,  17.81781782,  17.91791792,\n",
       "        18.01801802,  18.11811812,  18.21821822,  18.31831832,\n",
       "        18.41841842,  18.51851852,  18.61861862,  18.71871872,\n",
       "        18.81881882,  18.91891892,  19.01901902,  19.11911912,\n",
       "        19.21921922,  19.31931932,  19.41941942,  19.51951952,\n",
       "        19.61961962,  19.71971972,  19.81981982,  19.91991992,\n",
       "        20.02002002,  20.12012012,  20.22022022,  20.32032032,\n",
       "        20.42042042,  20.52052052,  20.62062062,  20.72072072,\n",
       "        20.82082082,  20.92092092,  21.02102102,  21.12112112,\n",
       "        21.22122122,  21.32132132,  21.42142142,  21.52152152,\n",
       "        21.62162162,  21.72172172,  21.82182182,  21.92192192,\n",
       "        22.02202202,  22.12212212,  22.22222222,  22.32232232,\n",
       "        22.42242242,  22.52252252,  22.62262262,  22.72272272,\n",
       "        22.82282282,  22.92292292,  23.02302302,  23.12312312,\n",
       "        23.22322322,  23.32332332,  23.42342342,  23.52352352,\n",
       "        23.62362362,  23.72372372,  23.82382382,  23.92392392,\n",
       "        24.02402402,  24.12412412,  24.22422422,  24.32432432,\n",
       "        24.42442442,  24.52452452,  24.62462462,  24.72472472,\n",
       "        24.82482482,  24.92492492,  25.02502503,  25.12512513,\n",
       "        25.22522523,  25.32532533,  25.42542543,  25.52552553,\n",
       "        25.62562563,  25.72572573,  25.82582583,  25.92592593,\n",
       "        26.02602603,  26.12612613,  26.22622623,  26.32632633,\n",
       "        26.42642643,  26.52652653,  26.62662663,  26.72672673,\n",
       "        26.82682683,  26.92692693,  27.02702703,  27.12712713,\n",
       "        27.22722723,  27.32732733,  27.42742743,  27.52752753,\n",
       "        27.62762763,  27.72772773,  27.82782783,  27.92792793,\n",
       "        28.02802803,  28.12812813,  28.22822823,  28.32832833,\n",
       "        28.42842843,  28.52852853,  28.62862863,  28.72872873,\n",
       "        28.82882883,  28.92892893,  29.02902903,  29.12912913,\n",
       "        29.22922923,  29.32932933,  29.42942943,  29.52952953,\n",
       "        29.62962963,  29.72972973,  29.82982983,  29.92992993,\n",
       "        30.03003003,  30.13013013,  30.23023023,  30.33033033,\n",
       "        30.43043043,  30.53053053,  30.63063063,  30.73073073,\n",
       "        30.83083083,  30.93093093,  31.03103103,  31.13113113,\n",
       "        31.23123123,  31.33133133,  31.43143143,  31.53153153,\n",
       "        31.63163163,  31.73173173,  31.83183183,  31.93193193,\n",
       "        32.03203203,  32.13213213,  32.23223223,  32.33233233,\n",
       "        32.43243243,  32.53253253,  32.63263263,  32.73273273,\n",
       "        32.83283283,  32.93293293,  33.03303303,  33.13313313,\n",
       "        33.23323323,  33.33333333,  33.43343343,  33.53353353,\n",
       "        33.63363363,  33.73373373,  33.83383383,  33.93393393,\n",
       "        34.03403403,  34.13413413,  34.23423423,  34.33433433,\n",
       "        34.43443443,  34.53453453,  34.63463463,  34.73473473,\n",
       "        34.83483483,  34.93493493,  35.03503504,  35.13513514,\n",
       "        35.23523524,  35.33533534,  35.43543544,  35.53553554,\n",
       "        35.63563564,  35.73573574,  35.83583584,  35.93593594,\n",
       "        36.03603604,  36.13613614,  36.23623624,  36.33633634,\n",
       "        36.43643644,  36.53653654,  36.63663664,  36.73673674,\n",
       "        36.83683684,  36.93693694,  37.03703704,  37.13713714,\n",
       "        37.23723724,  37.33733734,  37.43743744,  37.53753754,\n",
       "        37.63763764,  37.73773774,  37.83783784,  37.93793794,\n",
       "        38.03803804,  38.13813814,  38.23823824,  38.33833834,\n",
       "        38.43843844,  38.53853854,  38.63863864,  38.73873874,\n",
       "        38.83883884,  38.93893894,  39.03903904,  39.13913914,\n",
       "        39.23923924,  39.33933934,  39.43943944,  39.53953954,\n",
       "        39.63963964,  39.73973974,  39.83983984,  39.93993994,\n",
       "        40.04004004,  40.14014014,  40.24024024,  40.34034034,\n",
       "        40.44044044,  40.54054054,  40.64064064,  40.74074074,\n",
       "        40.84084084,  40.94094094,  41.04104104,  41.14114114,\n",
       "        41.24124124,  41.34134134,  41.44144144,  41.54154154,\n",
       "        41.64164164,  41.74174174,  41.84184184,  41.94194194,\n",
       "        42.04204204,  42.14214214,  42.24224224,  42.34234234,\n",
       "        42.44244244,  42.54254254,  42.64264264,  42.74274274,\n",
       "        42.84284284,  42.94294294,  43.04304304,  43.14314314,\n",
       "        43.24324324,  43.34334334,  43.44344344,  43.54354354,\n",
       "        43.64364364,  43.74374374,  43.84384384,  43.94394394,\n",
       "        44.04404404,  44.14414414,  44.24424424,  44.34434434,\n",
       "        44.44444444,  44.54454454,  44.64464464,  44.74474474,\n",
       "        44.84484484,  44.94494494,  45.04504505,  45.14514515,\n",
       "        45.24524525,  45.34534535,  45.44544545,  45.54554555,\n",
       "        45.64564565,  45.74574575,  45.84584585,  45.94594595,\n",
       "        46.04604605,  46.14614615,  46.24624625,  46.34634635,\n",
       "        46.44644645,  46.54654655,  46.64664665,  46.74674675,\n",
       "        46.84684685,  46.94694695,  47.04704705,  47.14714715,\n",
       "        47.24724725,  47.34734735,  47.44744745,  47.54754755,\n",
       "        47.64764765,  47.74774775,  47.84784785,  47.94794795,\n",
       "        48.04804805,  48.14814815,  48.24824825,  48.34834835,\n",
       "        48.44844845,  48.54854855,  48.64864865,  48.74874875,\n",
       "        48.84884885,  48.94894895,  49.04904905,  49.14914915,\n",
       "        49.24924925,  49.34934935,  49.44944945,  49.54954955,\n",
       "        49.64964965,  49.74974975,  49.84984985,  49.94994995,\n",
       "        50.05005005,  50.15015015,  50.25025025,  50.35035035,\n",
       "        50.45045045,  50.55055055,  50.65065065,  50.75075075,\n",
       "        50.85085085,  50.95095095,  51.05105105,  51.15115115,\n",
       "        51.25125125,  51.35135135,  51.45145145,  51.55155155,\n",
       "        51.65165165,  51.75175175,  51.85185185,  51.95195195,\n",
       "        52.05205205,  52.15215215,  52.25225225,  52.35235235,\n",
       "        52.45245245,  52.55255255,  52.65265265,  52.75275275,\n",
       "        52.85285285,  52.95295295,  53.05305305,  53.15315315,\n",
       "        53.25325325,  53.35335335,  53.45345345,  53.55355355,\n",
       "        53.65365365,  53.75375375,  53.85385385,  53.95395395,\n",
       "        54.05405405,  54.15415415,  54.25425425,  54.35435435,\n",
       "        54.45445445,  54.55455455,  54.65465465,  54.75475475,\n",
       "        54.85485485,  54.95495495,  55.05505506,  55.15515516,\n",
       "        55.25525526,  55.35535536,  55.45545546,  55.55555556,\n",
       "        55.65565566,  55.75575576,  55.85585586,  55.95595596,\n",
       "        56.05605606,  56.15615616,  56.25625626,  56.35635636,\n",
       "        56.45645646,  56.55655656,  56.65665666,  56.75675676,\n",
       "        56.85685686,  56.95695696,  57.05705706,  57.15715716,\n",
       "        57.25725726,  57.35735736,  57.45745746,  57.55755756,\n",
       "        57.65765766,  57.75775776,  57.85785786,  57.95795796,\n",
       "        58.05805806,  58.15815816,  58.25825826,  58.35835836,\n",
       "        58.45845846,  58.55855856,  58.65865866,  58.75875876,\n",
       "        58.85885886,  58.95895896,  59.05905906,  59.15915916,\n",
       "        59.25925926,  59.35935936,  59.45945946,  59.55955956,\n",
       "        59.65965966,  59.75975976,  59.85985986,  59.95995996,\n",
       "        60.06006006,  60.16016016,  60.26026026,  60.36036036,\n",
       "        60.46046046,  60.56056056,  60.66066066,  60.76076076,\n",
       "        60.86086086,  60.96096096,  61.06106106,  61.16116116,\n",
       "        61.26126126,  61.36136136,  61.46146146,  61.56156156,\n",
       "        61.66166166,  61.76176176,  61.86186186,  61.96196196,\n",
       "        62.06206206,  62.16216216,  62.26226226,  62.36236236,\n",
       "        62.46246246,  62.56256256,  62.66266266,  62.76276276,\n",
       "        62.86286286,  62.96296296,  63.06306306,  63.16316316,\n",
       "        63.26326326,  63.36336336,  63.46346346,  63.56356356,\n",
       "        63.66366366,  63.76376376,  63.86386386,  63.96396396,\n",
       "        64.06406406,  64.16416416,  64.26426426,  64.36436436,\n",
       "        64.46446446,  64.56456456,  64.66466466,  64.76476476,\n",
       "        64.86486486,  64.96496496,  65.06506507,  65.16516517,\n",
       "        65.26526527,  65.36536537,  65.46546547,  65.56556557,\n",
       "        65.66566567,  65.76576577,  65.86586587,  65.96596597,\n",
       "        66.06606607,  66.16616617,  66.26626627,  66.36636637,\n",
       "        66.46646647,  66.56656657,  66.66666667,  66.76676677,\n",
       "        66.86686687,  66.96696697,  67.06706707,  67.16716717,\n",
       "        67.26726727,  67.36736737,  67.46746747,  67.56756757,\n",
       "        67.66766767,  67.76776777,  67.86786787,  67.96796797,\n",
       "        68.06806807,  68.16816817,  68.26826827,  68.36836837,\n",
       "        68.46846847,  68.56856857,  68.66866867,  68.76876877,\n",
       "        68.86886887,  68.96896897,  69.06906907,  69.16916917,\n",
       "        69.26926927,  69.36936937,  69.46946947,  69.56956957,\n",
       "        69.66966967,  69.76976977,  69.86986987,  69.96996997,\n",
       "        70.07007007,  70.17017017,  70.27027027,  70.37037037,\n",
       "        70.47047047,  70.57057057,  70.67067067,  70.77077077,\n",
       "        70.87087087,  70.97097097,  71.07107107,  71.17117117,\n",
       "        71.27127127,  71.37137137,  71.47147147,  71.57157157,\n",
       "        71.67167167,  71.77177177,  71.87187187,  71.97197197,\n",
       "        72.07207207,  72.17217217,  72.27227227,  72.37237237,\n",
       "        72.47247247,  72.57257257,  72.67267267,  72.77277277,\n",
       "        72.87287287,  72.97297297,  73.07307307,  73.17317317,\n",
       "        73.27327327,  73.37337337,  73.47347347,  73.57357357,\n",
       "        73.67367367,  73.77377377,  73.87387387,  73.97397397,\n",
       "        74.07407407,  74.17417417,  74.27427427,  74.37437437,\n",
       "        74.47447447,  74.57457457,  74.67467467,  74.77477477,\n",
       "        74.87487487,  74.97497497,  75.07507508,  75.17517518,\n",
       "        75.27527528,  75.37537538,  75.47547548,  75.57557558,\n",
       "        75.67567568,  75.77577578,  75.87587588,  75.97597598,\n",
       "        76.07607608,  76.17617618,  76.27627628,  76.37637638,\n",
       "        76.47647648,  76.57657658,  76.67667668,  76.77677678,\n",
       "        76.87687688,  76.97697698,  77.07707708,  77.17717718,\n",
       "        77.27727728,  77.37737738,  77.47747748,  77.57757758,\n",
       "        77.67767768,  77.77777778,  77.87787788,  77.97797798,\n",
       "        78.07807808,  78.17817818,  78.27827828,  78.37837838,\n",
       "        78.47847848,  78.57857858,  78.67867868,  78.77877878,\n",
       "        78.87887888,  78.97897898,  79.07907908,  79.17917918,\n",
       "        79.27927928,  79.37937938,  79.47947948,  79.57957958,\n",
       "        79.67967968,  79.77977978,  79.87987988,  79.97997998,\n",
       "        80.08008008,  80.18018018,  80.28028028,  80.38038038,\n",
       "        80.48048048,  80.58058058,  80.68068068,  80.78078078,\n",
       "        80.88088088,  80.98098098,  81.08108108,  81.18118118,\n",
       "        81.28128128,  81.38138138,  81.48148148,  81.58158158,\n",
       "        81.68168168,  81.78178178,  81.88188188,  81.98198198,\n",
       "        82.08208208,  82.18218218,  82.28228228,  82.38238238,\n",
       "        82.48248248,  82.58258258,  82.68268268,  82.78278278,\n",
       "        82.88288288,  82.98298298,  83.08308308,  83.18318318,\n",
       "        83.28328328,  83.38338338,  83.48348348,  83.58358358,\n",
       "        83.68368368,  83.78378378,  83.88388388,  83.98398398,\n",
       "        84.08408408,  84.18418418,  84.28428428,  84.38438438,\n",
       "        84.48448448,  84.58458458,  84.68468468,  84.78478478,\n",
       "        84.88488488,  84.98498498,  85.08508509,  85.18518519,\n",
       "        85.28528529,  85.38538539,  85.48548549,  85.58558559,\n",
       "        85.68568569,  85.78578579,  85.88588589,  85.98598599,\n",
       "        86.08608609,  86.18618619,  86.28628629,  86.38638639,\n",
       "        86.48648649,  86.58658659,  86.68668669,  86.78678679,\n",
       "        86.88688689,  86.98698699,  87.08708709,  87.18718719,\n",
       "        87.28728729,  87.38738739,  87.48748749,  87.58758759,\n",
       "        87.68768769,  87.78778779,  87.88788789,  87.98798799,\n",
       "        88.08808809,  88.18818819,  88.28828829,  88.38838839,\n",
       "        88.48848849,  88.58858859,  88.68868869,  88.78878879,\n",
       "        88.88888889,  88.98898899,  89.08908909,  89.18918919,\n",
       "        89.28928929,  89.38938939,  89.48948949,  89.58958959,\n",
       "        89.68968969,  89.78978979,  89.88988989,  89.98998999,\n",
       "        90.09009009,  90.19019019,  90.29029029,  90.39039039,\n",
       "        90.49049049,  90.59059059,  90.69069069,  90.79079079,\n",
       "        90.89089089,  90.99099099,  91.09109109,  91.19119119,\n",
       "        91.29129129,  91.39139139,  91.49149149,  91.59159159,\n",
       "        91.69169169,  91.79179179,  91.89189189,  91.99199199,\n",
       "        92.09209209,  92.19219219,  92.29229229,  92.39239239,\n",
       "        92.49249249,  92.59259259,  92.69269269,  92.79279279,\n",
       "        92.89289289,  92.99299299,  93.09309309,  93.19319319,\n",
       "        93.29329329,  93.39339339,  93.49349349,  93.59359359,\n",
       "        93.69369369,  93.79379379,  93.89389389,  93.99399399,\n",
       "        94.09409409,  94.19419419,  94.29429429,  94.39439439,\n",
       "        94.49449449,  94.59459459,  94.69469469,  94.79479479,\n",
       "        94.89489489,  94.99499499,  95.0950951 ,  95.1951952 ,\n",
       "        95.2952953 ,  95.3953954 ,  95.4954955 ,  95.5955956 ,\n",
       "        95.6956957 ,  95.7957958 ,  95.8958959 ,  95.995996  ,\n",
       "        96.0960961 ,  96.1961962 ,  96.2962963 ,  96.3963964 ,\n",
       "        96.4964965 ,  96.5965966 ,  96.6966967 ,  96.7967968 ,\n",
       "        96.8968969 ,  96.996997  ,  97.0970971 ,  97.1971972 ,\n",
       "        97.2972973 ,  97.3973974 ,  97.4974975 ,  97.5975976 ,\n",
       "        97.6976977 ,  97.7977978 ,  97.8978979 ,  97.997998  ,\n",
       "        98.0980981 ,  98.1981982 ,  98.2982983 ,  98.3983984 ,\n",
       "        98.4984985 ,  98.5985986 ,  98.6986987 ,  98.7987988 ,\n",
       "        98.8988989 ,  98.998999  ,  99.0990991 ,  99.1991992 ,\n",
       "        99.2992993 ,  99.3993994 ,  99.4994995 ,  99.5995996 ,\n",
       "        99.6996997 ,  99.7997998 ,  99.8998999 , 100.        ])"
      ]
     },
     "execution_count": 159,
     "metadata": {},
     "output_type": "execute_result"
    }
   ],
   "source": [
    "x"
   ]
  },
  {
   "cell_type": "code",
   "execution_count": 160,
   "metadata": {},
   "outputs": [
    {
     "data": {
      "text/plain": [
       "array([1.97238157e-06, 2.02991351e-06, 2.08903254e-06, 2.14977965e-06,\n",
       "       2.21219683e-06, 2.27632703e-06, 2.34221425e-06, 2.40990352e-06,\n",
       "       2.47944093e-06, 2.55087366e-06, 2.62425000e-06, 2.69961936e-06,\n",
       "       2.77703234e-06, 2.85654067e-06, 2.93819734e-06, 3.02205652e-06,\n",
       "       3.10817368e-06, 3.19660553e-06, 3.28741012e-06, 3.38064682e-06,\n",
       "       3.47637637e-06, 3.57466090e-06, 3.67556396e-06, 3.77915053e-06,\n",
       "       3.88548710e-06, 3.99464164e-06, 4.10668367e-06, 4.22168427e-06,\n",
       "       4.33971614e-06, 4.46085358e-06, 4.58517259e-06, 4.71275085e-06,\n",
       "       4.84366775e-06, 4.97800449e-06, 5.11584403e-06, 5.25727119e-06,\n",
       "       5.40237265e-06, 5.55123700e-06, 5.70395477e-06, 5.86061848e-06,\n",
       "       6.02132267e-06, 6.18616393e-06, 6.35524096e-06, 6.52865458e-06,\n",
       "       6.70650780e-06, 6.88890587e-06, 7.07595626e-06, 7.26776878e-06,\n",
       "       7.46445558e-06, 7.66613118e-06, 7.87291257e-06, 8.08491919e-06,\n",
       "       8.30227303e-06, 8.52509864e-06, 8.75352320e-06, 8.98767656e-06,\n",
       "       9.22769126e-06, 9.47370265e-06, 9.72584887e-06, 9.98427092e-06,\n",
       "       1.02491127e-05, 1.05205212e-05, 1.07986463e-05, 1.10836410e-05,\n",
       "       1.13756614e-05, 1.16748668e-05, 1.19814198e-05, 1.22954863e-05,\n",
       "       1.26172355e-05, 1.29468400e-05, 1.32844759e-05, 1.36303229e-05,\n",
       "       1.39845641e-05, 1.43473866e-05, 1.47189807e-05, 1.50995411e-05,\n",
       "       1.54892657e-05, 1.58883569e-05, 1.62970207e-05, 1.67154672e-05,\n",
       "       1.71439107e-05, 1.75825696e-05, 1.80316666e-05, 1.84914286e-05,\n",
       "       1.89620869e-05, 1.94438775e-05, 1.99370405e-05, 2.04418209e-05,\n",
       "       2.09584683e-05, 2.14872370e-05, 2.20283862e-05, 2.25821799e-05,\n",
       "       2.31488871e-05, 2.37287819e-05, 2.43221434e-05, 2.49292560e-05,\n",
       "       2.55504094e-05, 2.61858987e-05, 2.68360243e-05, 2.75010922e-05,\n",
       "       2.81814141e-05, 2.88773072e-05, 2.95890948e-05, 3.03171057e-05,\n",
       "       3.10616748e-05, 3.18231433e-05, 3.26018580e-05, 3.33981725e-05,\n",
       "       3.42124462e-05, 3.50450452e-05, 3.58963421e-05, 3.67667159e-05,\n",
       "       3.76565524e-05, 3.85662441e-05, 3.94961905e-05, 4.04467979e-05,\n",
       "       4.14184798e-05, 4.24116567e-05, 4.34267564e-05, 4.44642142e-05,\n",
       "       4.55244726e-05, 4.66079819e-05, 4.77151998e-05, 4.88465920e-05,\n",
       "       5.00026317e-05, 5.11838006e-05, 5.23905878e-05, 5.36234912e-05,\n",
       "       5.48830164e-05, 5.61696778e-05, 5.74839981e-05, 5.88265085e-05,\n",
       "       6.01977491e-05, 6.15982686e-05, 6.30286248e-05, 6.44893843e-05,\n",
       "       6.59811229e-05, 6.75044259e-05, 6.90598875e-05, 7.06481117e-05,\n",
       "       7.22697119e-05, 7.39253112e-05, 7.56155425e-05, 7.73410487e-05,\n",
       "       7.91024826e-05, 8.09005072e-05, 8.27357958e-05, 8.46090318e-05,\n",
       "       8.65209093e-05, 8.84721331e-05, 9.04634184e-05, 9.24954914e-05,\n",
       "       9.45690893e-05, 9.66849601e-05, 9.88438633e-05, 1.01046569e-04,\n",
       "       1.03293860e-04, 1.05586530e-04, 1.07925383e-04, 1.10311237e-04,\n",
       "       1.12744919e-04, 1.15227272e-04, 1.17759148e-04, 1.20341412e-04,\n",
       "       1.22974941e-04, 1.25660625e-04, 1.28399367e-04, 1.31192082e-04,\n",
       "       1.34039696e-04, 1.36943153e-04, 1.39903404e-04, 1.42921417e-04,\n",
       "       1.45998172e-04, 1.49134663e-04, 1.52331896e-04, 1.55590893e-04,\n",
       "       1.58912687e-04, 1.62298327e-04, 1.65748874e-04, 1.69265405e-04,\n",
       "       1.72849010e-04, 1.76500792e-04, 1.80221872e-04, 1.84013381e-04,\n",
       "       1.87876469e-04, 1.91812297e-04, 1.95822042e-04, 1.99906897e-04,\n",
       "       2.04068068e-04, 2.08306778e-04, 2.12624265e-04, 2.17021779e-04,\n",
       "       2.21500590e-04, 2.26061981e-04, 2.30707251e-04, 2.35437714e-04,\n",
       "       2.40254700e-04, 2.45159556e-04, 2.50153644e-04, 2.55238342e-04,\n",
       "       2.60415043e-04, 2.65685158e-04, 2.71050114e-04, 2.76511353e-04,\n",
       "       2.82070334e-04, 2.87728534e-04, 2.93487443e-04, 2.99348572e-04,\n",
       "       3.05313445e-04, 3.11383604e-04, 3.17560609e-04, 3.23846035e-04,\n",
       "       3.30241475e-04, 3.36748538e-04, 3.43368852e-04, 3.50104060e-04,\n",
       "       3.56955823e-04, 3.63925819e-04, 3.71015743e-04, 3.78227308e-04,\n",
       "       3.85562243e-04, 3.93022295e-04, 4.00609229e-04, 4.08324826e-04,\n",
       "       4.16170886e-04, 4.24149224e-04, 4.32261675e-04, 4.40510090e-04,\n",
       "       4.48896338e-04, 4.57422304e-04, 4.66089892e-04, 4.74901024e-04,\n",
       "       4.83857637e-04, 4.92961687e-04, 5.02215148e-04, 5.11620009e-04,\n",
       "       5.21178279e-04, 5.30891984e-04, 5.40763164e-04, 5.50793881e-04,\n",
       "       5.60986210e-04, 5.71342247e-04, 5.81864101e-04, 5.92553902e-04,\n",
       "       6.03413795e-04, 6.14445941e-04, 6.25652519e-04, 6.37035726e-04,\n",
       "       6.48597773e-04, 6.60340890e-04, 6.72267322e-04, 6.84379332e-04,\n",
       "       6.96679196e-04, 7.09169211e-04, 7.21851687e-04, 7.34728950e-04,\n",
       "       7.47803342e-04, 7.61077222e-04, 7.74552964e-04, 7.88232957e-04,\n",
       "       8.02119605e-04, 8.16215329e-04, 8.30522562e-04, 8.45043755e-04,\n",
       "       8.59781372e-04, 8.74737891e-04, 8.89915806e-04, 9.05317623e-04,\n",
       "       9.20945864e-04, 9.36803063e-04, 9.52891769e-04, 9.69214544e-04,\n",
       "       9.85773961e-04, 1.00257261e-03, 1.01961309e-03, 1.03689801e-03,\n",
       "       1.05443000e-03, 1.07221169e-03, 1.09024574e-03, 1.10853479e-03,\n",
       "       1.12708153e-03, 1.14588864e-03, 1.16495879e-03, 1.18429471e-03,\n",
       "       1.20389909e-03, 1.22377466e-03, 1.24392415e-03, 1.26435030e-03,\n",
       "       1.28505586e-03, 1.30604359e-03, 1.32731624e-03, 1.34887659e-03,\n",
       "       1.37072742e-03, 1.39287151e-03, 1.41531166e-03, 1.43805066e-03,\n",
       "       1.46109133e-03, 1.48443645e-03, 1.50808886e-03, 1.53205137e-03,\n",
       "       1.55632680e-03, 1.58091797e-03, 1.60582772e-03, 1.63105887e-03,\n",
       "       1.65661427e-03, 1.68249674e-03, 1.70870912e-03, 1.73525426e-03,\n",
       "       1.76213498e-03, 1.78935412e-03, 1.81691453e-03, 1.84481903e-03,\n",
       "       1.87307046e-03, 1.90167166e-03, 1.93062545e-03, 1.95993465e-03,\n",
       "       1.98960209e-03, 2.01963059e-03, 2.05002296e-03, 2.08078200e-03,\n",
       "       2.11191052e-03, 2.14341131e-03, 2.17528715e-03, 2.20754083e-03,\n",
       "       2.24017511e-03, 2.27319276e-03, 2.30659653e-03, 2.34038915e-03,\n",
       "       2.37457337e-03, 2.40915189e-03, 2.44412742e-03, 2.47950267e-03,\n",
       "       2.51528029e-03, 2.55146297e-03, 2.58805335e-03, 2.62505406e-03,\n",
       "       2.66246773e-03, 2.70029696e-03, 2.73854433e-03, 2.77721240e-03,\n",
       "       2.81630372e-03, 2.85582082e-03, 2.89576621e-03, 2.93614236e-03,\n",
       "       2.97695175e-03, 3.01819680e-03, 3.05987995e-03, 3.10200357e-03,\n",
       "       3.14457004e-03, 3.18758169e-03, 3.23104085e-03, 3.27494980e-03,\n",
       "       3.31931080e-03, 3.36412607e-03, 3.40939783e-03, 3.45512824e-03,\n",
       "       3.50131944e-03, 3.54797354e-03, 3.59509261e-03, 3.64267870e-03,\n",
       "       3.69073381e-03, 3.73925990e-03, 3.78825893e-03, 3.83773278e-03,\n",
       "       3.88768331e-03, 3.93811236e-03, 3.98902169e-03, 4.04041306e-03,\n",
       "       4.09228817e-03, 4.14464868e-03, 4.19749619e-03, 4.25083230e-03,\n",
       "       4.30465853e-03, 4.35897636e-03, 4.41378724e-03, 4.46909255e-03,\n",
       "       4.52489364e-03, 4.58119180e-03, 4.63798829e-03, 4.69528431e-03,\n",
       "       4.75308098e-03, 4.81137942e-03, 4.87018067e-03, 4.92948570e-03,\n",
       "       4.98929546e-03, 5.04961082e-03, 5.11043262e-03, 5.17176161e-03,\n",
       "       5.23359850e-03, 5.29594395e-03, 5.35879855e-03, 5.42216282e-03,\n",
       "       5.48603725e-03, 5.55042224e-03, 5.61531813e-03, 5.68072522e-03,\n",
       "       5.74664372e-03, 5.81307378e-03, 5.88001550e-03, 5.94746891e-03,\n",
       "       6.01543395e-03, 6.08391052e-03, 6.15289844e-03, 6.22239746e-03,\n",
       "       6.29240726e-03, 6.36292745e-03, 6.43395757e-03, 6.50549709e-03,\n",
       "       6.57754540e-03, 6.65010182e-03, 6.72316560e-03, 6.79673591e-03,\n",
       "       6.87081184e-03, 6.94539242e-03, 7.02047658e-03, 7.09606320e-03,\n",
       "       7.17215104e-03, 7.24873884e-03, 7.32582520e-03, 7.40340868e-03,\n",
       "       7.48148775e-03, 7.56006078e-03, 7.63912610e-03, 7.71868190e-03,\n",
       "       7.79872634e-03, 7.87925747e-03, 7.96027326e-03, 8.04177158e-03,\n",
       "       8.12375026e-03, 8.20620699e-03, 8.28913941e-03, 8.37254506e-03,\n",
       "       8.45642140e-03, 8.54076579e-03, 8.62557552e-03, 8.71084777e-03,\n",
       "       8.79657965e-03, 8.88276818e-03, 8.96941028e-03, 9.05650278e-03,\n",
       "       9.14404244e-03, 9.23202590e-03, 9.32044973e-03, 9.40931041e-03,\n",
       "       9.49860432e-03, 9.58832775e-03, 9.67847689e-03, 9.76904787e-03,\n",
       "       9.86003668e-03, 9.95143927e-03, 1.00432515e-02, 1.01354690e-02,\n",
       "       1.02280875e-02, 1.03211026e-02, 1.04145096e-02, 1.05083041e-02,\n",
       "       1.06024812e-02, 1.06970361e-02, 1.07919639e-02, 1.08872597e-02,\n",
       "       1.09829183e-02, 1.10789346e-02, 1.11753032e-02, 1.12720189e-02,\n",
       "       1.13690760e-02, 1.14664691e-02, 1.15641926e-02, 1.16622407e-02,\n",
       "       1.17606075e-02, 1.18592871e-02, 1.19582736e-02, 1.20575609e-02,\n",
       "       1.21571426e-02, 1.22570126e-02, 1.23571645e-02, 1.24575918e-02,\n",
       "       1.25582880e-02, 1.26592464e-02, 1.27604603e-02, 1.28619228e-02,\n",
       "       1.29636272e-02, 1.30655664e-02, 1.31677333e-02, 1.32701207e-02,\n",
       "       1.33727215e-02, 1.34755283e-02, 1.35785337e-02, 1.36817301e-02,\n",
       "       1.37851101e-02, 1.38886659e-02, 1.39923898e-02, 1.40962740e-02,\n",
       "       1.42003106e-02, 1.43044917e-02, 1.44088091e-02, 1.45132548e-02,\n",
       "       1.46178204e-02, 1.47224979e-02, 1.48272787e-02, 1.49321545e-02,\n",
       "       1.50371167e-02, 1.51421569e-02, 1.52472662e-02, 1.53524361e-02,\n",
       "       1.54576578e-02, 1.55629224e-02, 1.56682209e-02, 1.57735445e-02,\n",
       "       1.58788841e-02, 1.59842305e-02, 1.60895746e-02, 1.61949071e-02,\n",
       "       1.63002189e-02, 1.64055005e-02, 1.65107425e-02, 1.66159355e-02,\n",
       "       1.67210700e-02, 1.68261364e-02, 1.69311251e-02, 1.70360264e-02,\n",
       "       1.71408307e-02, 1.72455281e-02, 1.73501089e-02, 1.74545631e-02,\n",
       "       1.75588810e-02, 1.76630525e-02, 1.77670678e-02, 1.78709167e-02,\n",
       "       1.79745893e-02, 1.80780754e-02, 1.81813649e-02, 1.82844478e-02,\n",
       "       1.83873137e-02, 1.84899525e-02, 1.85923540e-02, 1.86945078e-02,\n",
       "       1.87964038e-02, 1.88980315e-02, 1.89993807e-02, 1.91004410e-02,\n",
       "       1.92012020e-02, 1.93016534e-02, 1.94017847e-02, 1.95015856e-02,\n",
       "       1.96010456e-02, 1.97001543e-02, 1.97989012e-02, 1.98972759e-02,\n",
       "       1.99952680e-02, 2.00928671e-02, 2.01900626e-02, 2.02868441e-02,\n",
       "       2.03832012e-02, 2.04791235e-02, 2.05746005e-02, 2.06696219e-02,\n",
       "       2.07641771e-02, 2.08582559e-02, 2.09518477e-02, 2.10449424e-02,\n",
       "       2.11375295e-02, 2.12295987e-02, 2.13211398e-02, 2.14121424e-02,\n",
       "       2.15025962e-02, 2.15924912e-02, 2.16818170e-02, 2.17705636e-02,\n",
       "       2.18587208e-02, 2.19462785e-02, 2.20332267e-02, 2.21195554e-02,\n",
       "       2.22052546e-02, 2.22903143e-02, 2.23747248e-02, 2.24584761e-02,\n",
       "       2.25415585e-02, 2.26239623e-02, 2.27056778e-02, 2.27866954e-02,\n",
       "       2.28670054e-02, 2.29465984e-02, 2.30254650e-02, 2.31035958e-02,\n",
       "       2.31809814e-02, 2.32576126e-02, 2.33334803e-02, 2.34085752e-02,\n",
       "       2.34828884e-02, 2.35564108e-02, 2.36291337e-02, 2.37010481e-02,\n",
       "       2.37721454e-02, 2.38424169e-02, 2.39118540e-02, 2.39804482e-02,\n",
       "       2.40481911e-02, 2.41150744e-02, 2.41810898e-02, 2.42462293e-02,\n",
       "       2.43104848e-02, 2.43738483e-02, 2.44363120e-02, 2.44978681e-02,\n",
       "       2.45585089e-02, 2.46182270e-02, 2.46770148e-02, 2.47348650e-02,\n",
       "       2.47917704e-02, 2.48477238e-02, 2.49027182e-02, 2.49567466e-02,\n",
       "       2.50098023e-02, 2.50618785e-02, 2.51129687e-02, 2.51630664e-02,\n",
       "       2.52121652e-02, 2.52602590e-02, 2.53073416e-02, 2.53534070e-02,\n",
       "       2.53984493e-02, 2.54424629e-02, 2.54854420e-02, 2.55273811e-02,\n",
       "       2.55682750e-02, 2.56081184e-02, 2.56469061e-02, 2.56846332e-02,\n",
       "       2.57212948e-02, 2.57568862e-02, 2.57914028e-02, 2.58248402e-02,\n",
       "       2.58571941e-02, 2.58884602e-02, 2.59186345e-02, 2.59477132e-02,\n",
       "       2.59756924e-02, 2.60025686e-02, 2.60283382e-02, 2.60529980e-02,\n",
       "       2.60765446e-02, 2.60989751e-02, 2.61202865e-02, 2.61404760e-02,\n",
       "       2.61595411e-02, 2.61774792e-02, 2.61942881e-02, 2.62099654e-02,\n",
       "       2.62245093e-02, 2.62379177e-02, 2.62501890e-02, 2.62613214e-02,\n",
       "       2.62713137e-02, 2.62801644e-02, 2.62878724e-02, 2.62944368e-02,\n",
       "       2.62998566e-02, 2.63041311e-02, 2.63072598e-02, 2.63092423e-02,\n",
       "       2.63100783e-02, 2.63097677e-02, 2.63083105e-02, 2.63057070e-02,\n",
       "       2.63019574e-02, 2.62970623e-02, 2.62910224e-02, 2.62838383e-02,\n",
       "       2.62755110e-02, 2.62660417e-02, 2.62554315e-02, 2.62436819e-02,\n",
       "       2.62307943e-02, 2.62167705e-02, 2.62016123e-02, 2.61853217e-02,\n",
       "       2.61679007e-02, 2.61493517e-02, 2.61296771e-02, 2.61088794e-02,\n",
       "       2.60869614e-02, 2.60639258e-02, 2.60397758e-02, 2.60145143e-02,\n",
       "       2.59881448e-02, 2.59606705e-02, 2.59320952e-02, 2.59024224e-02,\n",
       "       2.58716561e-02, 2.58398002e-02, 2.58068588e-02, 2.57728361e-02,\n",
       "       2.57377366e-02, 2.57015648e-02, 2.56643254e-02, 2.56260230e-02,\n",
       "       2.55866628e-02, 2.55462496e-02, 2.55047887e-02, 2.54622855e-02,\n",
       "       2.54187452e-02, 2.53741736e-02, 2.53285763e-02, 2.52819591e-02,\n",
       "       2.52343279e-02, 2.51856888e-02, 2.51360480e-02, 2.50854118e-02,\n",
       "       2.50337866e-02, 2.49811789e-02, 2.49275954e-02, 2.48730428e-02,\n",
       "       2.48175280e-02, 2.47610579e-02, 2.47036398e-02, 2.46452807e-02,\n",
       "       2.45859880e-02, 2.45257690e-02, 2.44646313e-02, 2.44025826e-02,\n",
       "       2.43396304e-02, 2.42757827e-02, 2.42110473e-02, 2.41454322e-02,\n",
       "       2.40789455e-02, 2.40115955e-02, 2.39433903e-02, 2.38743384e-02,\n",
       "       2.38044482e-02, 2.37337283e-02, 2.36621872e-02, 2.35898337e-02,\n",
       "       2.35166765e-02, 2.34427245e-02, 2.33679867e-02, 2.32924720e-02,\n",
       "       2.32161896e-02, 2.31391485e-02, 2.30613580e-02, 2.29828274e-02,\n",
       "       2.29035661e-02, 2.28235834e-02, 2.27428889e-02, 2.26614920e-02,\n",
       "       2.25794024e-02, 2.24966298e-02, 2.24131837e-02, 2.23290741e-02,\n",
       "       2.22443106e-02, 2.21589032e-02, 2.20728618e-02, 2.19861962e-02,\n",
       "       2.18989165e-02, 2.18110328e-02, 2.17225550e-02, 2.16334933e-02,\n",
       "       2.15438579e-02, 2.14536589e-02, 2.13629064e-02, 2.12716109e-02,\n",
       "       2.11797824e-02, 2.10874313e-02, 2.09945679e-02, 2.09012026e-02,\n",
       "       2.08073456e-02, 2.07130075e-02, 2.06181984e-02, 2.05229289e-02,\n",
       "       2.04272094e-02, 2.03310502e-02, 2.02344618e-02, 2.01374547e-02,\n",
       "       2.00400393e-02, 1.99422260e-02, 1.98440253e-02, 1.97454476e-02,\n",
       "       1.96465034e-02, 1.95472031e-02, 1.94475571e-02, 1.93475759e-02,\n",
       "       1.92472699e-02, 1.91466495e-02, 1.90457251e-02, 1.89445070e-02,\n",
       "       1.88430056e-02, 1.87412312e-02, 1.86391943e-02, 1.85369050e-02,\n",
       "       1.84343737e-02, 1.83316105e-02, 1.82286258e-02, 1.81254297e-02,\n",
       "       1.80220324e-02, 1.79184440e-02, 1.78146747e-02, 1.77107344e-02,\n",
       "       1.76066332e-02, 1.75023812e-02, 1.73979882e-02, 1.72934642e-02,\n",
       "       1.71888190e-02, 1.70840625e-02, 1.69792044e-02, 1.68742546e-02,\n",
       "       1.67692226e-02, 1.66641181e-02, 1.65589507e-02, 1.64537300e-02,\n",
       "       1.63484653e-02, 1.62431662e-02, 1.61378420e-02, 1.60325021e-02,\n",
       "       1.59271556e-02, 1.58218118e-02, 1.57164798e-02, 1.56111686e-02,\n",
       "       1.55058874e-02, 1.54006449e-02, 1.52954502e-02, 1.51903120e-02,\n",
       "       1.50852391e-02, 1.49802401e-02, 1.48753236e-02, 1.47704982e-02,\n",
       "       1.46657724e-02, 1.45611544e-02, 1.44566528e-02, 1.43522756e-02,\n",
       "       1.42480310e-02, 1.41439272e-02, 1.40399722e-02, 1.39361738e-02,\n",
       "       1.38325400e-02, 1.37290785e-02, 1.36257971e-02, 1.35227032e-02,\n",
       "       1.34198045e-02, 1.33171084e-02, 1.32146223e-02, 1.31123535e-02,\n",
       "       1.30103091e-02, 1.29084962e-02, 1.28069220e-02, 1.27055933e-02,\n",
       "       1.26045170e-02, 1.25036998e-02, 1.24031485e-02, 1.23028696e-02,\n",
       "       1.22028696e-02, 1.21031550e-02, 1.20037321e-02, 1.19046070e-02,\n",
       "       1.18057860e-02, 1.17072751e-02, 1.16090802e-02, 1.15112073e-02,\n",
       "       1.14136621e-02, 1.13164503e-02, 1.12195775e-02, 1.11230492e-02,\n",
       "       1.10268708e-02, 1.09310477e-02, 1.08355850e-02, 1.07404879e-02,\n",
       "       1.06457615e-02, 1.05514107e-02, 1.04574403e-02, 1.03638552e-02,\n",
       "       1.02706599e-02, 1.01778591e-02, 1.00854573e-02, 9.99345887e-03,\n",
       "       9.90186807e-03, 9.81068914e-03, 9.71992620e-03, 9.62958328e-03,\n",
       "       9.53966430e-03, 9.45017311e-03, 9.36111347e-03, 9.27248902e-03,\n",
       "       9.18430334e-03, 9.09655990e-03, 9.00926209e-03, 8.92241321e-03,\n",
       "       8.83601646e-03, 8.75007496e-03, 8.66459173e-03, 8.57956971e-03,\n",
       "       8.49501175e-03, 8.41092061e-03, 8.32729896e-03, 8.24414938e-03,\n",
       "       8.16147438e-03, 8.07927636e-03, 7.99755765e-03, 7.91632049e-03,\n",
       "       7.83556703e-03, 7.75529933e-03, 7.67551938e-03, 7.59622909e-03,\n",
       "       7.51743027e-03, 7.43912465e-03, 7.36131389e-03, 7.28399955e-03,\n",
       "       7.20718313e-03, 7.13086603e-03, 7.05504958e-03, 6.97973504e-03,\n",
       "       6.90492358e-03, 6.83061628e-03, 6.75681417e-03, 6.68351818e-03,\n",
       "       6.61072918e-03, 6.53844795e-03, 6.46667521e-03, 6.39541160e-03,\n",
       "       6.32465769e-03, 6.25441397e-03, 6.18468086e-03, 6.11545871e-03,\n",
       "       6.04674780e-03, 5.97854835e-03, 5.91086049e-03, 5.84368430e-03,\n",
       "       5.77701979e-03, 5.71086690e-03, 5.64522550e-03, 5.58009540e-03,\n",
       "       5.51547634e-03, 5.45136801e-03, 5.38777003e-03, 5.32468195e-03,\n",
       "       5.26210327e-03, 5.20003342e-03, 5.13847179e-03, 5.07741768e-03,\n",
       "       5.01687036e-03, 4.95682902e-03, 4.89729283e-03, 4.83826086e-03,\n",
       "       4.77973215e-03, 4.72170569e-03, 4.66418040e-03, 4.60715516e-03,\n",
       "       4.55062881e-03, 4.49460010e-03, 4.43906778e-03, 4.38403052e-03,\n",
       "       4.32948694e-03, 4.27543563e-03, 4.22187513e-03, 4.16880392e-03,\n",
       "       4.11622045e-03, 4.06412313e-03, 4.01251031e-03, 3.96138031e-03,\n",
       "       3.91073140e-03, 3.86056183e-03, 3.81086978e-03, 3.76165342e-03,\n",
       "       3.71291085e-03, 3.66464017e-03, 3.61683942e-03, 3.56950660e-03,\n",
       "       3.52263970e-03, 3.47623665e-03, 3.43029536e-03, 3.38481371e-03,\n",
       "       3.33978953e-03, 3.29522065e-03, 3.25110484e-03, 3.20743986e-03,\n",
       "       3.16422344e-03, 3.12145326e-03, 3.07912701e-03, 3.03724233e-03,\n",
       "       2.99579683e-03, 2.95478812e-03, 2.91421375e-03, 2.87407129e-03,\n",
       "       2.83435825e-03, 2.79507214e-03, 2.75621044e-03, 2.71777061e-03,\n",
       "       2.67975010e-03, 2.64214634e-03, 2.60495672e-03, 2.56817865e-03,\n",
       "       2.53180948e-03, 2.49584658e-03, 2.46028729e-03, 2.42512894e-03,\n",
       "       2.39036883e-03, 2.35600427e-03, 2.32203255e-03, 2.28845094e-03,\n",
       "       2.25525671e-03, 2.22244710e-03, 2.19001936e-03, 2.15797073e-03])"
      ]
     },
     "execution_count": 160,
     "metadata": {},
     "output_type": "execute_result"
    }
   ],
   "source": [
    "p"
   ]
  },
  {
   "cell_type": "code",
   "execution_count": 161,
   "metadata": {},
   "outputs": [
    {
     "data": {
      "text/plain": [
       "0.026310078266633074"
      ]
     },
     "execution_count": 161,
     "metadata": {},
     "output_type": "execute_result"
    }
   ],
   "source": [
    "max(p)"
   ]
  },
  {
   "cell_type": "code",
   "execution_count": 162,
   "metadata": {},
   "outputs": [
    {
     "data": {
      "text/plain": [
       "250.0"
      ]
     },
     "execution_count": 162,
     "metadata": {},
     "output_type": "execute_result"
    }
   ],
   "source": [
    "0.025 * 10000"
   ]
  },
  {
   "cell_type": "code",
   "execution_count": 163,
   "metadata": {},
   "outputs": [
    {
     "data": {
      "text/plain": [
       "array([1.97238157e-02, 2.02991351e-02, 2.08903254e-02, 2.14977965e-02,\n",
       "       2.21219683e-02, 2.27632703e-02, 2.34221425e-02, 2.40990352e-02,\n",
       "       2.47944093e-02, 2.55087366e-02, 2.62425000e-02, 2.69961936e-02,\n",
       "       2.77703234e-02, 2.85654067e-02, 2.93819734e-02, 3.02205652e-02,\n",
       "       3.10817368e-02, 3.19660553e-02, 3.28741012e-02, 3.38064682e-02,\n",
       "       3.47637637e-02, 3.57466090e-02, 3.67556396e-02, 3.77915053e-02,\n",
       "       3.88548710e-02, 3.99464164e-02, 4.10668367e-02, 4.22168427e-02,\n",
       "       4.33971614e-02, 4.46085358e-02, 4.58517259e-02, 4.71275085e-02,\n",
       "       4.84366775e-02, 4.97800449e-02, 5.11584403e-02, 5.25727119e-02,\n",
       "       5.40237265e-02, 5.55123700e-02, 5.70395477e-02, 5.86061848e-02,\n",
       "       6.02132267e-02, 6.18616393e-02, 6.35524096e-02, 6.52865458e-02,\n",
       "       6.70650780e-02, 6.88890587e-02, 7.07595626e-02, 7.26776878e-02,\n",
       "       7.46445558e-02, 7.66613118e-02, 7.87291257e-02, 8.08491919e-02,\n",
       "       8.30227303e-02, 8.52509864e-02, 8.75352320e-02, 8.98767656e-02,\n",
       "       9.22769126e-02, 9.47370265e-02, 9.72584887e-02, 9.98427092e-02,\n",
       "       1.02491127e-01, 1.05205212e-01, 1.07986463e-01, 1.10836410e-01,\n",
       "       1.13756614e-01, 1.16748668e-01, 1.19814198e-01, 1.22954863e-01,\n",
       "       1.26172355e-01, 1.29468400e-01, 1.32844759e-01, 1.36303229e-01,\n",
       "       1.39845641e-01, 1.43473866e-01, 1.47189807e-01, 1.50995411e-01,\n",
       "       1.54892657e-01, 1.58883569e-01, 1.62970207e-01, 1.67154672e-01,\n",
       "       1.71439107e-01, 1.75825696e-01, 1.80316666e-01, 1.84914286e-01,\n",
       "       1.89620869e-01, 1.94438775e-01, 1.99370405e-01, 2.04418209e-01,\n",
       "       2.09584683e-01, 2.14872370e-01, 2.20283862e-01, 2.25821799e-01,\n",
       "       2.31488871e-01, 2.37287819e-01, 2.43221434e-01, 2.49292560e-01,\n",
       "       2.55504094e-01, 2.61858987e-01, 2.68360243e-01, 2.75010922e-01,\n",
       "       2.81814141e-01, 2.88773072e-01, 2.95890948e-01, 3.03171057e-01,\n",
       "       3.10616748e-01, 3.18231433e-01, 3.26018580e-01, 3.33981725e-01,\n",
       "       3.42124462e-01, 3.50450452e-01, 3.58963421e-01, 3.67667159e-01,\n",
       "       3.76565524e-01, 3.85662441e-01, 3.94961905e-01, 4.04467979e-01,\n",
       "       4.14184798e-01, 4.24116567e-01, 4.34267564e-01, 4.44642142e-01,\n",
       "       4.55244726e-01, 4.66079819e-01, 4.77151998e-01, 4.88465920e-01,\n",
       "       5.00026317e-01, 5.11838006e-01, 5.23905878e-01, 5.36234912e-01,\n",
       "       5.48830164e-01, 5.61696778e-01, 5.74839981e-01, 5.88265085e-01,\n",
       "       6.01977491e-01, 6.15982686e-01, 6.30286248e-01, 6.44893843e-01,\n",
       "       6.59811229e-01, 6.75044259e-01, 6.90598875e-01, 7.06481117e-01,\n",
       "       7.22697119e-01, 7.39253112e-01, 7.56155425e-01, 7.73410487e-01,\n",
       "       7.91024826e-01, 8.09005072e-01, 8.27357958e-01, 8.46090318e-01,\n",
       "       8.65209093e-01, 8.84721331e-01, 9.04634184e-01, 9.24954914e-01,\n",
       "       9.45690893e-01, 9.66849601e-01, 9.88438633e-01, 1.01046569e+00,\n",
       "       1.03293860e+00, 1.05586530e+00, 1.07925383e+00, 1.10311237e+00,\n",
       "       1.12744919e+00, 1.15227272e+00, 1.17759148e+00, 1.20341412e+00,\n",
       "       1.22974941e+00, 1.25660625e+00, 1.28399367e+00, 1.31192082e+00,\n",
       "       1.34039696e+00, 1.36943153e+00, 1.39903404e+00, 1.42921417e+00,\n",
       "       1.45998172e+00, 1.49134663e+00, 1.52331896e+00, 1.55590893e+00,\n",
       "       1.58912687e+00, 1.62298327e+00, 1.65748874e+00, 1.69265405e+00,\n",
       "       1.72849010e+00, 1.76500792e+00, 1.80221872e+00, 1.84013381e+00,\n",
       "       1.87876469e+00, 1.91812297e+00, 1.95822042e+00, 1.99906897e+00,\n",
       "       2.04068068e+00, 2.08306778e+00, 2.12624265e+00, 2.17021779e+00,\n",
       "       2.21500590e+00, 2.26061981e+00, 2.30707251e+00, 2.35437714e+00,\n",
       "       2.40254700e+00, 2.45159556e+00, 2.50153644e+00, 2.55238342e+00,\n",
       "       2.60415043e+00, 2.65685158e+00, 2.71050114e+00, 2.76511353e+00,\n",
       "       2.82070334e+00, 2.87728534e+00, 2.93487443e+00, 2.99348572e+00,\n",
       "       3.05313445e+00, 3.11383604e+00, 3.17560609e+00, 3.23846035e+00,\n",
       "       3.30241475e+00, 3.36748538e+00, 3.43368852e+00, 3.50104060e+00,\n",
       "       3.56955823e+00, 3.63925819e+00, 3.71015743e+00, 3.78227308e+00,\n",
       "       3.85562243e+00, 3.93022295e+00, 4.00609229e+00, 4.08324826e+00,\n",
       "       4.16170886e+00, 4.24149224e+00, 4.32261675e+00, 4.40510090e+00,\n",
       "       4.48896338e+00, 4.57422304e+00, 4.66089892e+00, 4.74901024e+00,\n",
       "       4.83857637e+00, 4.92961687e+00, 5.02215148e+00, 5.11620009e+00,\n",
       "       5.21178279e+00, 5.30891984e+00, 5.40763164e+00, 5.50793881e+00,\n",
       "       5.60986210e+00, 5.71342247e+00, 5.81864101e+00, 5.92553902e+00,\n",
       "       6.03413795e+00, 6.14445941e+00, 6.25652519e+00, 6.37035726e+00,\n",
       "       6.48597773e+00, 6.60340890e+00, 6.72267322e+00, 6.84379332e+00,\n",
       "       6.96679196e+00, 7.09169211e+00, 7.21851687e+00, 7.34728950e+00,\n",
       "       7.47803342e+00, 7.61077222e+00, 7.74552964e+00, 7.88232957e+00,\n",
       "       8.02119605e+00, 8.16215329e+00, 8.30522562e+00, 8.45043755e+00,\n",
       "       8.59781372e+00, 8.74737891e+00, 8.89915806e+00, 9.05317623e+00,\n",
       "       9.20945864e+00, 9.36803063e+00, 9.52891769e+00, 9.69214544e+00,\n",
       "       9.85773961e+00, 1.00257261e+01, 1.01961309e+01, 1.03689801e+01,\n",
       "       1.05443000e+01, 1.07221169e+01, 1.09024574e+01, 1.10853479e+01,\n",
       "       1.12708153e+01, 1.14588864e+01, 1.16495879e+01, 1.18429471e+01,\n",
       "       1.20389909e+01, 1.22377466e+01, 1.24392415e+01, 1.26435030e+01,\n",
       "       1.28505586e+01, 1.30604359e+01, 1.32731624e+01, 1.34887659e+01,\n",
       "       1.37072742e+01, 1.39287151e+01, 1.41531166e+01, 1.43805066e+01,\n",
       "       1.46109133e+01, 1.48443645e+01, 1.50808886e+01, 1.53205137e+01,\n",
       "       1.55632680e+01, 1.58091797e+01, 1.60582772e+01, 1.63105887e+01,\n",
       "       1.65661427e+01, 1.68249674e+01, 1.70870912e+01, 1.73525426e+01,\n",
       "       1.76213498e+01, 1.78935412e+01, 1.81691453e+01, 1.84481903e+01,\n",
       "       1.87307046e+01, 1.90167166e+01, 1.93062545e+01, 1.95993465e+01,\n",
       "       1.98960209e+01, 2.01963059e+01, 2.05002296e+01, 2.08078200e+01,\n",
       "       2.11191052e+01, 2.14341131e+01, 2.17528715e+01, 2.20754083e+01,\n",
       "       2.24017511e+01, 2.27319276e+01, 2.30659653e+01, 2.34038915e+01,\n",
       "       2.37457337e+01, 2.40915189e+01, 2.44412742e+01, 2.47950267e+01,\n",
       "       2.51528029e+01, 2.55146297e+01, 2.58805335e+01, 2.62505406e+01,\n",
       "       2.66246773e+01, 2.70029696e+01, 2.73854433e+01, 2.77721240e+01,\n",
       "       2.81630372e+01, 2.85582082e+01, 2.89576621e+01, 2.93614236e+01,\n",
       "       2.97695175e+01, 3.01819680e+01, 3.05987995e+01, 3.10200357e+01,\n",
       "       3.14457004e+01, 3.18758169e+01, 3.23104085e+01, 3.27494980e+01,\n",
       "       3.31931080e+01, 3.36412607e+01, 3.40939783e+01, 3.45512824e+01,\n",
       "       3.50131944e+01, 3.54797354e+01, 3.59509261e+01, 3.64267870e+01,\n",
       "       3.69073381e+01, 3.73925990e+01, 3.78825893e+01, 3.83773278e+01,\n",
       "       3.88768331e+01, 3.93811236e+01, 3.98902169e+01, 4.04041306e+01,\n",
       "       4.09228817e+01, 4.14464868e+01, 4.19749619e+01, 4.25083230e+01,\n",
       "       4.30465853e+01, 4.35897636e+01, 4.41378724e+01, 4.46909255e+01,\n",
       "       4.52489364e+01, 4.58119180e+01, 4.63798829e+01, 4.69528431e+01,\n",
       "       4.75308098e+01, 4.81137942e+01, 4.87018067e+01, 4.92948570e+01,\n",
       "       4.98929546e+01, 5.04961082e+01, 5.11043262e+01, 5.17176161e+01,\n",
       "       5.23359850e+01, 5.29594395e+01, 5.35879855e+01, 5.42216282e+01,\n",
       "       5.48603725e+01, 5.55042224e+01, 5.61531813e+01, 5.68072522e+01,\n",
       "       5.74664372e+01, 5.81307378e+01, 5.88001550e+01, 5.94746891e+01,\n",
       "       6.01543395e+01, 6.08391052e+01, 6.15289844e+01, 6.22239746e+01,\n",
       "       6.29240726e+01, 6.36292745e+01, 6.43395757e+01, 6.50549709e+01,\n",
       "       6.57754540e+01, 6.65010182e+01, 6.72316560e+01, 6.79673591e+01,\n",
       "       6.87081184e+01, 6.94539242e+01, 7.02047658e+01, 7.09606320e+01,\n",
       "       7.17215104e+01, 7.24873884e+01, 7.32582520e+01, 7.40340868e+01,\n",
       "       7.48148775e+01, 7.56006078e+01, 7.63912610e+01, 7.71868190e+01,\n",
       "       7.79872634e+01, 7.87925747e+01, 7.96027326e+01, 8.04177158e+01,\n",
       "       8.12375026e+01, 8.20620699e+01, 8.28913941e+01, 8.37254506e+01,\n",
       "       8.45642140e+01, 8.54076579e+01, 8.62557552e+01, 8.71084777e+01,\n",
       "       8.79657965e+01, 8.88276818e+01, 8.96941028e+01, 9.05650278e+01,\n",
       "       9.14404244e+01, 9.23202590e+01, 9.32044973e+01, 9.40931041e+01,\n",
       "       9.49860432e+01, 9.58832775e+01, 9.67847689e+01, 9.76904787e+01,\n",
       "       9.86003668e+01, 9.95143927e+01, 1.00432515e+02, 1.01354690e+02,\n",
       "       1.02280875e+02, 1.03211026e+02, 1.04145096e+02, 1.05083041e+02,\n",
       "       1.06024812e+02, 1.06970361e+02, 1.07919639e+02, 1.08872597e+02,\n",
       "       1.09829183e+02, 1.10789346e+02, 1.11753032e+02, 1.12720189e+02,\n",
       "       1.13690760e+02, 1.14664691e+02, 1.15641926e+02, 1.16622407e+02,\n",
       "       1.17606075e+02, 1.18592871e+02, 1.19582736e+02, 1.20575609e+02,\n",
       "       1.21571426e+02, 1.22570126e+02, 1.23571645e+02, 1.24575918e+02,\n",
       "       1.25582880e+02, 1.26592464e+02, 1.27604603e+02, 1.28619228e+02,\n",
       "       1.29636272e+02, 1.30655664e+02, 1.31677333e+02, 1.32701207e+02,\n",
       "       1.33727215e+02, 1.34755283e+02, 1.35785337e+02, 1.36817301e+02,\n",
       "       1.37851101e+02, 1.38886659e+02, 1.39923898e+02, 1.40962740e+02,\n",
       "       1.42003106e+02, 1.43044917e+02, 1.44088091e+02, 1.45132548e+02,\n",
       "       1.46178204e+02, 1.47224979e+02, 1.48272787e+02, 1.49321545e+02,\n",
       "       1.50371167e+02, 1.51421569e+02, 1.52472662e+02, 1.53524361e+02,\n",
       "       1.54576578e+02, 1.55629224e+02, 1.56682209e+02, 1.57735445e+02,\n",
       "       1.58788841e+02, 1.59842305e+02, 1.60895746e+02, 1.61949071e+02,\n",
       "       1.63002189e+02, 1.64055005e+02, 1.65107425e+02, 1.66159355e+02,\n",
       "       1.67210700e+02, 1.68261364e+02, 1.69311251e+02, 1.70360264e+02,\n",
       "       1.71408307e+02, 1.72455281e+02, 1.73501089e+02, 1.74545631e+02,\n",
       "       1.75588810e+02, 1.76630525e+02, 1.77670678e+02, 1.78709167e+02,\n",
       "       1.79745893e+02, 1.80780754e+02, 1.81813649e+02, 1.82844478e+02,\n",
       "       1.83873137e+02, 1.84899525e+02, 1.85923540e+02, 1.86945078e+02,\n",
       "       1.87964038e+02, 1.88980315e+02, 1.89993807e+02, 1.91004410e+02,\n",
       "       1.92012020e+02, 1.93016534e+02, 1.94017847e+02, 1.95015856e+02,\n",
       "       1.96010456e+02, 1.97001543e+02, 1.97989012e+02, 1.98972759e+02,\n",
       "       1.99952680e+02, 2.00928671e+02, 2.01900626e+02, 2.02868441e+02,\n",
       "       2.03832012e+02, 2.04791235e+02, 2.05746005e+02, 2.06696219e+02,\n",
       "       2.07641771e+02, 2.08582559e+02, 2.09518477e+02, 2.10449424e+02,\n",
       "       2.11375295e+02, 2.12295987e+02, 2.13211398e+02, 2.14121424e+02,\n",
       "       2.15025962e+02, 2.15924912e+02, 2.16818170e+02, 2.17705636e+02,\n",
       "       2.18587208e+02, 2.19462785e+02, 2.20332267e+02, 2.21195554e+02,\n",
       "       2.22052546e+02, 2.22903143e+02, 2.23747248e+02, 2.24584761e+02,\n",
       "       2.25415585e+02, 2.26239623e+02, 2.27056778e+02, 2.27866954e+02,\n",
       "       2.28670054e+02, 2.29465984e+02, 2.30254650e+02, 2.31035958e+02,\n",
       "       2.31809814e+02, 2.32576126e+02, 2.33334803e+02, 2.34085752e+02,\n",
       "       2.34828884e+02, 2.35564108e+02, 2.36291337e+02, 2.37010481e+02,\n",
       "       2.37721454e+02, 2.38424169e+02, 2.39118540e+02, 2.39804482e+02,\n",
       "       2.40481911e+02, 2.41150744e+02, 2.41810898e+02, 2.42462293e+02,\n",
       "       2.43104848e+02, 2.43738483e+02, 2.44363120e+02, 2.44978681e+02,\n",
       "       2.45585089e+02, 2.46182270e+02, 2.46770148e+02, 2.47348650e+02,\n",
       "       2.47917704e+02, 2.48477238e+02, 2.49027182e+02, 2.49567466e+02,\n",
       "       2.50098023e+02, 2.50618785e+02, 2.51129687e+02, 2.51630664e+02,\n",
       "       2.52121652e+02, 2.52602590e+02, 2.53073416e+02, 2.53534070e+02,\n",
       "       2.53984493e+02, 2.54424629e+02, 2.54854420e+02, 2.55273811e+02,\n",
       "       2.55682750e+02, 2.56081184e+02, 2.56469061e+02, 2.56846332e+02,\n",
       "       2.57212948e+02, 2.57568862e+02, 2.57914028e+02, 2.58248402e+02,\n",
       "       2.58571941e+02, 2.58884602e+02, 2.59186345e+02, 2.59477132e+02,\n",
       "       2.59756924e+02, 2.60025686e+02, 2.60283382e+02, 2.60529980e+02,\n",
       "       2.60765446e+02, 2.60989751e+02, 2.61202865e+02, 2.61404760e+02,\n",
       "       2.61595411e+02, 2.61774792e+02, 2.61942881e+02, 2.62099654e+02,\n",
       "       2.62245093e+02, 2.62379177e+02, 2.62501890e+02, 2.62613214e+02,\n",
       "       2.62713137e+02, 2.62801644e+02, 2.62878724e+02, 2.62944368e+02,\n",
       "       2.62998566e+02, 2.63041311e+02, 2.63072598e+02, 2.63092423e+02,\n",
       "       2.63100783e+02, 2.63097677e+02, 2.63083105e+02, 2.63057070e+02,\n",
       "       2.63019574e+02, 2.62970623e+02, 2.62910224e+02, 2.62838383e+02,\n",
       "       2.62755110e+02, 2.62660417e+02, 2.62554315e+02, 2.62436819e+02,\n",
       "       2.62307943e+02, 2.62167705e+02, 2.62016123e+02, 2.61853217e+02,\n",
       "       2.61679007e+02, 2.61493517e+02, 2.61296771e+02, 2.61088794e+02,\n",
       "       2.60869614e+02, 2.60639258e+02, 2.60397758e+02, 2.60145143e+02,\n",
       "       2.59881448e+02, 2.59606705e+02, 2.59320952e+02, 2.59024224e+02,\n",
       "       2.58716561e+02, 2.58398002e+02, 2.58068588e+02, 2.57728361e+02,\n",
       "       2.57377366e+02, 2.57015648e+02, 2.56643254e+02, 2.56260230e+02,\n",
       "       2.55866628e+02, 2.55462496e+02, 2.55047887e+02, 2.54622855e+02,\n",
       "       2.54187452e+02, 2.53741736e+02, 2.53285763e+02, 2.52819591e+02,\n",
       "       2.52343279e+02, 2.51856888e+02, 2.51360480e+02, 2.50854118e+02,\n",
       "       2.50337866e+02, 2.49811789e+02, 2.49275954e+02, 2.48730428e+02,\n",
       "       2.48175280e+02, 2.47610579e+02, 2.47036398e+02, 2.46452807e+02,\n",
       "       2.45859880e+02, 2.45257690e+02, 2.44646313e+02, 2.44025826e+02,\n",
       "       2.43396304e+02, 2.42757827e+02, 2.42110473e+02, 2.41454322e+02,\n",
       "       2.40789455e+02, 2.40115955e+02, 2.39433903e+02, 2.38743384e+02,\n",
       "       2.38044482e+02, 2.37337283e+02, 2.36621872e+02, 2.35898337e+02,\n",
       "       2.35166765e+02, 2.34427245e+02, 2.33679867e+02, 2.32924720e+02,\n",
       "       2.32161896e+02, 2.31391485e+02, 2.30613580e+02, 2.29828274e+02,\n",
       "       2.29035661e+02, 2.28235834e+02, 2.27428889e+02, 2.26614920e+02,\n",
       "       2.25794024e+02, 2.24966298e+02, 2.24131837e+02, 2.23290741e+02,\n",
       "       2.22443106e+02, 2.21589032e+02, 2.20728618e+02, 2.19861962e+02,\n",
       "       2.18989165e+02, 2.18110328e+02, 2.17225550e+02, 2.16334933e+02,\n",
       "       2.15438579e+02, 2.14536589e+02, 2.13629064e+02, 2.12716109e+02,\n",
       "       2.11797824e+02, 2.10874313e+02, 2.09945679e+02, 2.09012026e+02,\n",
       "       2.08073456e+02, 2.07130075e+02, 2.06181984e+02, 2.05229289e+02,\n",
       "       2.04272094e+02, 2.03310502e+02, 2.02344618e+02, 2.01374547e+02,\n",
       "       2.00400393e+02, 1.99422260e+02, 1.98440253e+02, 1.97454476e+02,\n",
       "       1.96465034e+02, 1.95472031e+02, 1.94475571e+02, 1.93475759e+02,\n",
       "       1.92472699e+02, 1.91466495e+02, 1.90457251e+02, 1.89445070e+02,\n",
       "       1.88430056e+02, 1.87412312e+02, 1.86391943e+02, 1.85369050e+02,\n",
       "       1.84343737e+02, 1.83316105e+02, 1.82286258e+02, 1.81254297e+02,\n",
       "       1.80220324e+02, 1.79184440e+02, 1.78146747e+02, 1.77107344e+02,\n",
       "       1.76066332e+02, 1.75023812e+02, 1.73979882e+02, 1.72934642e+02,\n",
       "       1.71888190e+02, 1.70840625e+02, 1.69792044e+02, 1.68742546e+02,\n",
       "       1.67692226e+02, 1.66641181e+02, 1.65589507e+02, 1.64537300e+02,\n",
       "       1.63484653e+02, 1.62431662e+02, 1.61378420e+02, 1.60325021e+02,\n",
       "       1.59271556e+02, 1.58218118e+02, 1.57164798e+02, 1.56111686e+02,\n",
       "       1.55058874e+02, 1.54006449e+02, 1.52954502e+02, 1.51903120e+02,\n",
       "       1.50852391e+02, 1.49802401e+02, 1.48753236e+02, 1.47704982e+02,\n",
       "       1.46657724e+02, 1.45611544e+02, 1.44566528e+02, 1.43522756e+02,\n",
       "       1.42480310e+02, 1.41439272e+02, 1.40399722e+02, 1.39361738e+02,\n",
       "       1.38325400e+02, 1.37290785e+02, 1.36257971e+02, 1.35227032e+02,\n",
       "       1.34198045e+02, 1.33171084e+02, 1.32146223e+02, 1.31123535e+02,\n",
       "       1.30103091e+02, 1.29084962e+02, 1.28069220e+02, 1.27055933e+02,\n",
       "       1.26045170e+02, 1.25036998e+02, 1.24031485e+02, 1.23028696e+02,\n",
       "       1.22028696e+02, 1.21031550e+02, 1.20037321e+02, 1.19046070e+02,\n",
       "       1.18057860e+02, 1.17072751e+02, 1.16090802e+02, 1.15112073e+02,\n",
       "       1.14136621e+02, 1.13164503e+02, 1.12195775e+02, 1.11230492e+02,\n",
       "       1.10268708e+02, 1.09310477e+02, 1.08355850e+02, 1.07404879e+02,\n",
       "       1.06457615e+02, 1.05514107e+02, 1.04574403e+02, 1.03638552e+02,\n",
       "       1.02706599e+02, 1.01778591e+02, 1.00854573e+02, 9.99345887e+01,\n",
       "       9.90186807e+01, 9.81068914e+01, 9.71992620e+01, 9.62958328e+01,\n",
       "       9.53966430e+01, 9.45017311e+01, 9.36111347e+01, 9.27248902e+01,\n",
       "       9.18430334e+01, 9.09655990e+01, 9.00926209e+01, 8.92241321e+01,\n",
       "       8.83601646e+01, 8.75007496e+01, 8.66459173e+01, 8.57956971e+01,\n",
       "       8.49501175e+01, 8.41092061e+01, 8.32729896e+01, 8.24414938e+01,\n",
       "       8.16147438e+01, 8.07927636e+01, 7.99755765e+01, 7.91632049e+01,\n",
       "       7.83556703e+01, 7.75529933e+01, 7.67551938e+01, 7.59622909e+01,\n",
       "       7.51743027e+01, 7.43912465e+01, 7.36131389e+01, 7.28399955e+01,\n",
       "       7.20718313e+01, 7.13086603e+01, 7.05504958e+01, 6.97973504e+01,\n",
       "       6.90492358e+01, 6.83061628e+01, 6.75681417e+01, 6.68351818e+01,\n",
       "       6.61072918e+01, 6.53844795e+01, 6.46667521e+01, 6.39541160e+01,\n",
       "       6.32465769e+01, 6.25441397e+01, 6.18468086e+01, 6.11545871e+01,\n",
       "       6.04674780e+01, 5.97854835e+01, 5.91086049e+01, 5.84368430e+01,\n",
       "       5.77701979e+01, 5.71086690e+01, 5.64522550e+01, 5.58009540e+01,\n",
       "       5.51547634e+01, 5.45136801e+01, 5.38777003e+01, 5.32468195e+01,\n",
       "       5.26210327e+01, 5.20003342e+01, 5.13847179e+01, 5.07741768e+01,\n",
       "       5.01687036e+01, 4.95682902e+01, 4.89729283e+01, 4.83826086e+01,\n",
       "       4.77973215e+01, 4.72170569e+01, 4.66418040e+01, 4.60715516e+01,\n",
       "       4.55062881e+01, 4.49460010e+01, 4.43906778e+01, 4.38403052e+01,\n",
       "       4.32948694e+01, 4.27543563e+01, 4.22187513e+01, 4.16880392e+01,\n",
       "       4.11622045e+01, 4.06412313e+01, 4.01251031e+01, 3.96138031e+01,\n",
       "       3.91073140e+01, 3.86056183e+01, 3.81086978e+01, 3.76165342e+01,\n",
       "       3.71291085e+01, 3.66464017e+01, 3.61683942e+01, 3.56950660e+01,\n",
       "       3.52263970e+01, 3.47623665e+01, 3.43029536e+01, 3.38481371e+01,\n",
       "       3.33978953e+01, 3.29522065e+01, 3.25110484e+01, 3.20743986e+01,\n",
       "       3.16422344e+01, 3.12145326e+01, 3.07912701e+01, 3.03724233e+01,\n",
       "       2.99579683e+01, 2.95478812e+01, 2.91421375e+01, 2.87407129e+01,\n",
       "       2.83435825e+01, 2.79507214e+01, 2.75621044e+01, 2.71777061e+01,\n",
       "       2.67975010e+01, 2.64214634e+01, 2.60495672e+01, 2.56817865e+01,\n",
       "       2.53180948e+01, 2.49584658e+01, 2.46028729e+01, 2.42512894e+01,\n",
       "       2.39036883e+01, 2.35600427e+01, 2.32203255e+01, 2.28845094e+01,\n",
       "       2.25525671e+01, 2.22244710e+01, 2.19001936e+01, 2.15797073e+01])"
      ]
     },
     "execution_count": 163,
     "metadata": {},
     "output_type": "execute_result"
    }
   ],
   "source": [
    "p_exp = p * 10000\n",
    "p_exp"
   ]
  },
  {
   "cell_type": "code",
   "execution_count": 164,
   "metadata": {},
   "outputs": [
    {
     "data": {
      "text/plain": [
       "197.23815679635305"
      ]
     },
     "execution_count": 164,
     "metadata": {},
     "output_type": "execute_result"
    }
   ],
   "source": [
    "min(p_exp) * 10000"
   ]
  },
  {
   "cell_type": "markdown",
   "metadata": {},
   "source": [
    "#### Plotting bell curve \n",
    "\n",
    "By multiplying 10000 to the bell curve y-series data, the y-values are closed to histogram y-series values.  However, the histogram bars are missing.  Still not resolve this yet. "
   ]
  },
  {
   "cell_type": "code",
   "execution_count": 165,
   "metadata": {},
   "outputs": [
    {
     "data": {
      "text/plain": [
       "[<matplotlib.lines.Line2D at 0x7f248e179450>]"
      ]
     },
     "execution_count": 165,
     "metadata": {},
     "output_type": "execute_result"
    },
    {
     "data": {
      "image/png": "[encoded data removed]",
      "text/plain": [
       "<Figure size 432x288 with 1 Axes>"
      ]
     },
     "metadata": {
      "needs_background": "light"
     },
     "output_type": "display_data"
    }
   ],
   "source": [
    "plt.plot(x, p_exp)"
   ]
  },
  {
   "cell_type": "markdown",
   "metadata": {},
   "source": [
    "## 4. Zip XY value to for Highchart's data series format"
   ]
  },
  {
   "cell_type": "markdown",
   "metadata": {},
   "source": [
    "### 4.1 Generate XY series for Histogram Bar "
   ]
  },
  {
   "cell_type": "code",
   "execution_count": 178,
   "metadata": {},
   "outputs": [
    {
     "data": {
      "text/plain": [
       "[[60.0, 270],\n",
       " [70.0, 215],\n",
       " [50.0, 189],\n",
       " [80.0, 126],\n",
       " [40.0, 100],\n",
       " [90.0, 50],\n",
       " [30.0, 34],\n",
       " [20.0, 12],\n",
       " [10.0, 2],\n",
       " [-0.1, 2]]"
      ]
     },
     "execution_count": 178,
     "metadata": {},
     "output_type": "execute_result"
    }
   ],
   "source": [
    "# Histogram Data\n",
    "hist_result = pd.cut(df_raw['math score'], BIN_SIZE).value_counts()\n",
    "\n",
    "# Get x_series of data \n",
    "list_x = []\n",
    "for item in hist_result.index.values:\n",
    "    list_x.append(item.left)\n",
    "\n",
    "# Create list of y_series data\n",
    "list_y = hist_result.values.tolist()\n",
    "\n",
    "series_bar_xy = [list(a) for a in zip(list_x, list_y)]\n",
    "series_bar_xy"
   ]
  },
  {
   "cell_type": "markdown",
   "metadata": {},
   "source": [
    "### 4.2  Generate XY series for Bell Curve"
   ]
  },
  {
   "cell_type": "code",
   "execution_count": 173,
   "metadata": {},
   "outputs": [],
   "source": [
    "bcx = np.linspace(0, 100, 10)\n",
    "bcp = (norm.pdf(bcx, MEAN, STD)) * 10000"
   ]
  },
  {
   "cell_type": "code",
   "execution_count": 174,
   "metadata": {},
   "outputs": [
    {
     "data": {
      "text/plain": [
       "[[0.0, 0.019723815679635305],\n",
       " [11.11111111111111, 0.3676671587030352],\n",
       " [22.22222222222222, 4.006092292248792],\n",
       " [33.33333333333333, 25.51462969531547],\n",
       " [44.44444444444444, 94.98604318905743],\n",
       " [55.55555555555556, 206.6962187130155],\n",
       " [66.66666666666666, 262.9102236431399],\n",
       " [77.77777777777777, 195.47203095982397],\n",
       " [88.88888888888889, 84.95011749795269],\n",
       " [100.0, 21.57970732846293]]"
      ]
     },
     "execution_count": 174,
     "metadata": {},
     "output_type": "execute_result"
    }
   ],
   "source": [
    "bellcurve_xy = [list(a) for a in zip(bcx.tolist(), bcp.tolist())]\n",
    "bellcurve_xy"
   ]
  },
  {
   "cell_type": "code",
   "execution_count": 175,
   "metadata": {},
   "outputs": [
    {
     "data": {
      "text/plain": [
       "[<matplotlib.lines.Line2D at 0x7f248e12a390>]"
      ]
     },
     "execution_count": 175,
     "metadata": {},
     "output_type": "execute_result"
    },
    {
     "data": {
      "image/png": "[encoded data removed]",
      "text/plain": [
       "<Figure size 432x288 with 1 Axes>"
      ]
     },
     "metadata": {
      "needs_background": "light"
     },
     "output_type": "display_data"
    }
   ],
   "source": [
    "plt.plot(bcx, bcp)"
   ]
  },
  {
   "cell_type": "code",
   "execution_count": 176,
   "metadata": {},
   "outputs": [
    {
     "data": {
      "image/png": "[encoded data removed]",
      "text/plain": [
       "<Figure size 432x288 with 1 Axes>"
      ]
     },
     "metadata": {
      "needs_background": "light"
     },
     "output_type": "display_data"
    }
   ],
   "source": [
    "hist = df_raw['math score'].hist(bins=BIN_SIZE)"
   ]
  }
 ],
 "metadata": {
  "kernelspec": {
   "display_name": "Python 3",
   "language": "python",
   "name": "python3"
  },
  "language_info": {
   "codemirror_mode": {
    "name": "ipython",
    "version": 3
   },
   "file_extension": ".py",
   "mimetype": "text/x-python",
   "name": "python",
   "nbconvert_exporter": "python",
   "pygments_lexer": "ipython3",
   "version": "3.7.6"
  }
 },
 "nbformat": 4,
 "nbformat_minor": 2
}
